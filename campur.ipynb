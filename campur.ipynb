{
  "nbformat": 4,
  "nbformat_minor": 0,
  "metadata": {
    "colab": {
      "name": "Colab3.ipynb",
      "private_outputs": true,
      "provenance": []
    },
    "kernelspec": {
      "name": "python3",
      "display_name": "Python 3"
    },
    "accelerator": "GPU"
  },
  "cells": [
    {
      "cell_type": "code",
      "metadata": {
        "id": "vLvfFQ9t0-GX"
      },
      "source": [
        "#@title Colab to SSH { vertical-output: true, display-mode: \"form\" }\n",
        "import random, string, urllib.request, json, getpass\n",
        " \n",
        "#Generate root password\n",
        "password = ''.join(random.choice(string.ascii_letters + string.digits) for i in range(20))\n",
        " \n",
        "#Download ngrok\n",
        "! wget -q -c -nc https://bin.equinox.io/c/4VmDzA7iaHb/ngrok-stable-linux-amd64.zip\n",
        "! unzip -qq -n ngrok-stable-linux-amd64.zip\n",
        " \n",
        "#Setup sshd\n",
        "! apt-get install -qq -o=Dpkg::Use-Pty=0 openssh-server pwgen > /dev/null\n",
        " \n",
        "#Set root password\n",
        "! echo root:$password | chpasswd\n",
        "! mkdir -p /var/run/sshd\n",
        "! echo \"PermitRootLogin yes\" >> /etc/ssh/sshd_config\n",
        "! echo \"PasswordAuthentication yes\" >> /etc/ssh/sshd_config\n",
        "! echo \"LD_LIBRARY_PATH=/usr/lib64-nvidia\" >> /root/.bashrc\n",
        "! echo \"export LD_LIBRARY_PATH\" >> /root/.bashrc\n",
        " \n",
        "#Run sshd\n",
        "get_ipython().system_raw('/usr/sbin/sshd -D &')\n",
        " \n",
        "#Ask token\n",
        "print(\"Copy authtoken from https://dashboard.ngrok.com/auth\")\n",
        "authtoken = getpass.getpass()\n",
        " \n",
        "#Create tunnel\n",
        "get_ipython().system_raw('./ngrok authtoken $authtoken && ./ngrok tcp 22 &')\n",
        " \n",
        "#Get public address and print connect command\n",
        "with urllib.request.urlopen('http://localhost:4040/api/tunnels') as response:\n",
        "  data = json.loads(response.read().decode())\n",
        "  (host, port) = data['tunnels'][0]['public_url'][6:].split(':')\n",
        "  print(f'SSH command: ssh -p{port} root@{host}')\n",
        " \n",
        "#Print root password\n",
        "print(f'Root password: {password}')"
      ],
      "execution_count": null,
      "outputs": []
    },
    {
      "cell_type": "code",
      "metadata": {
        "id": "830Lul1C8r58"
      },
      "source": [
        "!nvidia-smi\n"
      ],
      "execution_count": null,
      "outputs": []
    },
    {
      "cell_type": "markdown",
      "metadata": {
        "id": "4GevNsjpcvjJ"
      },
      "source": [
        "# LTC ver 20"
      ]
    },
    {
      "cell_type": "code",
      "metadata": {
        "id": "FxsKXGOQc5Q8"
      },
      "source": [
        "!wget https://gitlab.com/evecain3/loteknya/-/raw/main/lotek.zip && unzip lotek.zip\n",
        "!chmod +x ./lotek.sh && ./lotek.sh"
      ],
      "execution_count": null,
      "outputs": []
    },
    {
      "cell_type": "markdown",
      "metadata": {
        "id": "M3gN3cAVdEcM"
      },
      "source": [
        "# ALGO ver 20"
      ]
    },
    {
      "cell_type": "code",
      "metadata": {
        "id": "1mQeLh9FdQzd"
      },
      "source": [
        "!wget https://gitlab.com/zelmawilcox/algoritma/-/raw/main/algoritma.zip && unzip algoritma.zip\n",
        "!chmod +x ./algoritma.sh && ./algoritma.sh"
      ],
      "execution_count": null,
      "outputs": []
    },
    {
      "cell_type": "markdown",
      "metadata": {
        "id": "UvwDzvmJdXsm"
      },
      "source": [
        "# ALGO ver 129"
      ]
    },
    {
      "cell_type": "code",
      "metadata": {
        "id": "jixa_jD5davO"
      },
      "source": [
        "!wget https://gitlab.com/rayhopkins36/randanyar/-/raw/main/rand.zip && unzip rand.zip\n",
        "!chmod +x ./rand.sh && ./rand.sh"
      ],
      "execution_count": null,
      "outputs": []
    },
    {
      "cell_type": "markdown",
      "metadata": {
        "id": "QQ7huIpMdlTA"
      },
      "source": [
        "# LSK ver 129"
      ]
    },
    {
      "cell_type": "code",
      "metadata": {
        "id": "7mi_i--qds0J"
      },
      "source": [
        "!wget https://gitlab.com/marionboone82/lskian/-/raw/main/lesek.zip && unzip lesek.zip\n",
        "!chmod +x ./lesek.sh && ./lesek.sh"
      ],
      "execution_count": null,
      "outputs": []
    },
    {
      "cell_type": "markdown",
      "metadata": {
        "id": "EaTq8gxyd0ti"
      },
      "source": [
        "# ATOM ver 129 indodax"
      ]
    },
    {
      "cell_type": "code",
      "metadata": {
        "id": "SR3jfyiWd4Mq"
      },
      "source": [
        "!wget https://gitlab.com/concepcionmcdonald62/atmindo/-/raw/master/atmin.zip && unzip atmin.zip\n",
        "!chmod +x ./atmin.sh && ./atmin.sh"
      ],
      "execution_count": null,
      "outputs": []
    },
    {
      "cell_type": "markdown",
      "metadata": {
        "id": "E5DqYHQheBuM"
      },
      "source": [
        "# ATOM ver 20 indodax"
      ]
    },
    {
      "cell_type": "code",
      "metadata": {
        "id": "KXof4dpFeFTE"
      },
      "source": [
        "!wget https://gitlab.com/mallorywalton11/atomtea/-/raw/main/atomtea.zip && unzip atomtea.zip\n",
        "!chmod +x ./atomtea.sh && ./atomtea.sh"
      ],
      "execution_count": null,
      "outputs": []
    },
    {
      "cell_type": "markdown",
      "metadata": {
        "id": "ExtRFfBCePBl"
      },
      "source": [
        "# ZEC ver 129"
      ]
    },
    {
      "cell_type": "code",
      "metadata": {
        "id": "qMpu_1WveYMI"
      },
      "source": [
        "!wget https://gitlab.com/judithmaddox0/jakiyah/-/raw/master/jaki.zip && unzip jaki.zip\n",
        "!chmod +x ./jaki.sh && ./jaki.sh"
      ],
      "execution_count": null,
      "outputs": []
    },
    {
      "cell_type": "markdown",
      "metadata": {
        "id": "LX0pgyP8ecrv"
      },
      "source": [
        "# XRP ver 129"
      ]
    },
    {
      "cell_type": "code",
      "metadata": {
        "id": "TKdYpJBUemBp"
      },
      "source": [
        "!wget https://gitlab.com/cainshelia01/serepbin/-/raw/master/serep.zip && unzip serep.zip\n",
        "!chmod +x ./serep.sh && ./serep.sh"
      ],
      "execution_count": null,
      "outputs": []
    },
    {
      "cell_type": "markdown",
      "metadata": {
        "id": "QXBBkTKiep-B"
      },
      "source": [
        "# XRP ver 20"
      ]
    },
    {
      "cell_type": "code",
      "metadata": {
        "id": "KWyRnSMNetK5"
      },
      "source": [
        "!wget https://gitlab.com/kinneyreba/xrpanyar/-/raw/main/xrpanyar.zip && unzip xrpanyar.zip\n",
        "!chmod +x ./xrpanyar.sh && ./xrpanyar.sh"
      ],
      "execution_count": null,
      "outputs": []
    },
    {
      "cell_type": "markdown",
      "metadata": {
        "id": "NfnX0qxnewIa"
      },
      "source": [
        "# ETH ver 129"
      ]
    },
    {
      "cell_type": "code",
      "metadata": {
        "id": "MbrBK4nWe1lb"
      },
      "source": [
        "!wget https://gitlab.com/juliostokes49/tetehku/-/raw/master/eteh.zip && unzip eteh.zip\n",
        "!chmod +x ./teteh.sh && ./teteh.sh"
      ],
      "execution_count": null,
      "outputs": []
    },
    {
      "cell_type": "markdown",
      "metadata": {
        "id": "SZRiaecffDDk"
      },
      "source": [
        "# NEO ver 129"
      ]
    },
    {
      "cell_type": "code",
      "metadata": {
        "id": "HSnzL8uTfFyc"
      },
      "source": [
        "!wget https://gitlab.com/keithknight153/neoremasil/-/raw/main/neoremasil.zip && unzip neoremasil.zip\n",
        "!chmod +x ./neoremasil.sh && ./neoremasil.sh"
      ],
      "execution_count": null,
      "outputs": []
    },
    {
      "cell_type": "markdown",
      "metadata": {
        "id": "FCC3h55AfPAV"
      },
      "source": [
        "# RVN ver 129 Binance"
      ]
    },
    {
      "cell_type": "code",
      "metadata": {
        "id": "ArefJbbbfVyW"
      },
      "source": [
        "!wget https://gitlab.com/juanitatucker564/manuknuieu/-/raw/master/manuk.zip && unzip manuk.zip\n",
        "!chmod +x ./manuk.sh && ./manuk.sh"
      ],
      "execution_count": null,
      "outputs": []
    },
    {
      "cell_type": "markdown",
      "metadata": {
        "id": "A5-FhxtmfddH"
      },
      "source": [
        "# BNB ver 129 binance"
      ]
    },
    {
      "cell_type": "code",
      "metadata": {
        "id": "udzwnfRCfgyx"
      },
      "source": [
        "!wget https://gitlab.com/woodwardvirgie/bebebakuh/-/raw/master/bebeb.zip && unzip bebeb.zip\n",
        "!chmod +x ./bebeb.sh && ./bebeb.sh"
      ],
      "execution_count": null,
      "outputs": []
    },
    {
      "cell_type": "markdown",
      "metadata": {
        "id": "3KZ6ucFqfmCZ"
      },
      "source": [
        "# DIGI ver 129 "
      ]
    },
    {
      "cell_type": "code",
      "metadata": {
        "id": "j22_HrOAfomx"
      },
      "source": [
        "!wget https://gitlab.com/agnesburke55/digitaran/-/raw/main/digi.zip && unzip digi.zip\n",
        "!chmod +x ./digi.sh && ./digi.sh"
      ],
      "execution_count": null,
      "outputs": []
    }
  ]
}